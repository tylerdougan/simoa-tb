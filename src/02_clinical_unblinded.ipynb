{
 "cells": [
  {
   "cell_type": "code",
   "execution_count": 1,
   "metadata": {},
   "outputs": [],
   "source": [
    "import pandas as pd\n",
    "from sklearn.model_selection import StratifiedShuffleSplit\n",
    "\n",
    "from config import CLINICAL_MBV_FILES, PROCESSED_DIR\n",
    "from utils import Barcode2"
   ]
  },
  {
   "cell_type": "markdown",
   "metadata": {},
   "source": [
    "# 02 Clinical\n",
    "\n",
    "This notebook reads in the clinical information provided by FIND."
   ]
  },
  {
   "cell_type": "markdown",
   "metadata": {},
   "source": [
    "## Clinical data for training and validation (but not blinded test) cohorts"
   ]
  },
  {
   "cell_type": "code",
   "execution_count": 2,
   "metadata": {},
   "outputs": [],
   "source": [
    "# Read data files\n",
    "mb_100 = pd.read_excel(CLINICAL_MBV_FILES[0], sheet_name=\"URINE SAMPLES\")\n",
    "mb_100[\"Cohort\"] = \"training\"\n",
    "val_320 = pd.read_excel(CLINICAL_MBV_FILES[1])\n",
    "val_320[\"Cohort\"] = \"validation\"\n",
    "\n",
    "# Concatenate\n",
    "mbv_420 = pd.concat([mb_100, val_320], ignore_index=True).copy()\n",
    "\n",
    "# Drop duplicates (same OS_PatientID, different row\n",
    "mbv_420[\"Barcode Any Aliquot\"] = mbv_420[\"barcode\"].map(\n",
    "    lambda b: Barcode2(b).any_aliquot()\n",
    ")\n",
    "mbv_420.index = pd.Index(mbv_420[\"Barcode Any Aliquot\"], name=\"\")\n",
    "mbv = (\n",
    "    mbv_420.groupby(\"Barcode Any Aliquot\")\n",
    "    .ffill()\n",
    "    .bfill()\n",
    "    .drop_duplicates(subset=\"OS_PatientID\")\n",
    ")\n"
   ]
  },
  {
   "cell_type": "markdown",
   "metadata": {},
   "source": [
    "## Separate training and validation cohorts"
   ]
  },
  {
   "cell_type": "code",
   "execution_count": 3,
   "metadata": {},
   "outputs": [],
   "source": [
    "sm_neg_urine = mbv[mbv[\"p_cat\"] == \"S-C+\"]\n",
    "sm_neg_ssp = StratifiedShuffleSplit(n_splits=1, test_size=0.5, random_state=74)\n",
    "y_sn = 2 * sm_neg_urine[\"HIV_status\"] + sm_neg_urine[\"SEX\"]\n",
    "sm_neg_train, sm_neg_val = next(sm_neg_ssp.split(sm_neg_urine, y_sn))\n",
    "mbv.loc[sm_neg_urine.index[sm_neg_train], \"Cohort\"] = \"training\"\n"
   ]
  },
  {
   "cell_type": "markdown",
   "metadata": {},
   "source": [
    "## Align with sample results\n"
   ]
  },
  {
   "cell_type": "code",
   "execution_count": 4,
   "metadata": {},
   "outputs": [],
   "source": [
    "# Import sample results\n",
    "X_med = pd.read_csv(PROCESSED_DIR / \"X_med.csv\", index_col=0)\n",
    "X_rep = pd.read_csv(PROCESSED_DIR / \"X_rep.csv\", index_col=[0, 1])\n",
    "X_all = pd.read_csv(PROCESSED_DIR / \"X_all.csv\", index_col=[0, 1])\n",
    "\n",
    "missing_samples = mbv.loc[mbv.index.difference(X_med.index)]"
   ]
  },
  {
   "cell_type": "markdown",
   "metadata": {},
   "source": [
    "## Create arrays for machine learning"
   ]
  },
  {
   "cell_type": "code",
   "execution_count": 5,
   "metadata": {},
   "outputs": [],
   "source": [
    "X = X_med.loc[X_med.index.intersection(mbv.index)]\n",
    "y = mbv.loc[X_med.index.intersection(mbv.index), \"p_cat\"].map(\n",
    "    {\"NonTB_NonLTBI\": 0, \"S+C+\": 1, \"S-C+\": 1}\n",
    ")\n",
    "X.to_csv(PROCESSED_DIR / \"X.csv\")\n",
    "y.to_csv(PROCESSED_DIR / \"y.csv\")\n",
    "mbv.to_csv(PROCESSED_DIR / \"mbv.csv\")"
   ]
  }
 ],
 "metadata": {
  "kernelspec": {
   "display_name": ".venv",
   "language": "python",
   "name": "python3"
  },
  "language_info": {
   "codemirror_mode": {
    "name": "ipython",
    "version": 3
   },
   "file_extension": ".py",
   "mimetype": "text/x-python",
   "name": "python",
   "nbconvert_exporter": "python",
   "pygments_lexer": "ipython3",
   "version": "3.13.2"
  }
 },
 "nbformat": 4,
 "nbformat_minor": 2
}
