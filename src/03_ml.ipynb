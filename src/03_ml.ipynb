{
 "cells": [
  {
   "cell_type": "code",
   "execution_count": null,
   "metadata": {},
   "outputs": [],
   "source": [
    "import json\n",
    "import pickle\n",
    "import warnings\n",
    "\n",
    "import matplotlib.pyplot as plt\n",
    "import numpy as np\n",
    "import pandas as pd\n",
    "from sklearn.metrics import RocCurveDisplay, get_scorer, make_scorer, roc_curve\n",
    "from sklearn.model_selection import RepeatedStratifiedKFold\n",
    "\n",
    "from config import CLINICAL_TEST_FILE, LOD_COL_FMT, OUTPUT_DIR, PROCESSED_DIR\n",
    "from utils import (\n",
    "    Barcode2,\n",
    "    LogisticGAM,  # noqa\n",
    "    NestedCV,\n",
    "    StratifiedGroupKFoldFirst,  # noqa\n",
    "    make_gam,\n",
    ")"
   ]
  },
  {
   "cell_type": "code",
   "execution_count": null,
   "metadata": {},
   "outputs": [],
   "source": [
    "X = pd.read_csv(PROCESSED_DIR / \"X.csv\", index_col=0)\n",
    "X_all = pd.read_csv(PROCESSED_DIR / \"X_all.csv\", index_col=[0, 1])\n",
    "X_a: pd.DataFrame = np.arcsinh(X / LOD_COL_FMT[\"LOD_samples\"] * 10)  # type: ignore\n",
    "y = pd.read_csv(PROCESSED_DIR / \"y.csv\", index_col=0)\n",
    "X_all_a = np.arcsinh(X_all / LOD_COL_FMT[\"LOD_samples\"] * 10).loc[y.index]\n",
    "mbv = pd.read_csv(PROCESSED_DIR / \"mbv.csv\", index_col=0).loc[X.index]\n",
    "y_all = y.loc[X_all_a.index.get_level_values(0)]\n",
    "y_all.index = X_all_a.index"
   ]
  },
  {
   "cell_type": "code",
   "execution_count": null,
   "metadata": {},
   "outputs": [],
   "source": [
    "n_splits = 5\n",
    "random_state = 0\n",
    "inner_repeats = 4\n",
    "outer_repeats = 10\n",
    "n_trials = 100\n",
    "negligible = 0.01\n",
    "\n",
    "\n",
    "def sens_at_spec(y_true, y_score, spec=1):\n",
    "    fpr, tpr, __ = roc_curve(y_true, y_score)\n",
    "    valid_tpr = tpr[fpr <= 1 - spec]\n",
    "    return valid_tpr.max() if valid_tpr.size else 0.0\n",
    "\n",
    "\n",
    "scorers = {\n",
    "    \"roc_auc\": get_scorer(\"roc_auc\"),\n",
    "    \"sens_at_perf_spec\": make_scorer(\n",
    "        sens_at_spec, response_method=(\"decision_function\", \"predict_proba\")\n",
    "    ),\n",
    "    \"balanced_accuracy\": get_scorer(\"balanced_accuracy\"),\n",
    "}"
   ]
  },
  {
   "cell_type": "markdown",
   "metadata": {},
   "source": [
    "## Nested CV (warning: long)"
   ]
  },
  {
   "cell_type": "code",
   "execution_count": null,
   "metadata": {},
   "outputs": [],
   "source": [
    "# Using median only\n",
    "outer_cv = RepeatedStratifiedKFold(\n",
    "    n_splits=n_splits, n_repeats=outer_repeats, random_state=random_state\n",
    ")\n",
    "ncv_med = NestedCV(outer_cv, n_trials=100, scorers=scorers, inner_repeats=4)\n",
    "ncv_med.fit(X_a, y.values.ravel())\n",
    "\n",
    "# with open(PROCESSED_DIR / \"ncv.pkl\", \"wb\") as f:\n",
    "#   pickle.dump(ncv_med, f)"
   ]
  },
  {
   "cell_type": "markdown",
   "metadata": {},
   "source": [
    "## Alternative: load existing results"
   ]
  },
  {
   "cell_type": "code",
   "execution_count": null,
   "metadata": {},
   "outputs": [],
   "source": [
    "with open(PROCESSED_DIR / \"ncv.pkl\", \"rb\") as f:\n",
    "    ncv_med = pickle.load(f)"
   ]
  },
  {
   "cell_type": "markdown",
   "metadata": {},
   "source": [
    "## Plot partial dependence"
   ]
  },
  {
   "cell_type": "code",
   "execution_count": null,
   "metadata": {},
   "outputs": [],
   "source": [
    "train_on_mbv_params = ncv_med.chosen_params[[f\"lam_{i}\" for i in range(4)]].quantile(\n",
    "    0.1\n",
    ").to_dict() | {\n",
    "    \"n_splines_0\": 9,  # [7, 9],\n",
    "    \"n_splines_1\": 15,  # [10, 13, 14, 15],\n",
    "    \"n_splines_2\": 13,\n",
    "    \"n_splines_3\": 14,  # [10, 12, 14],\n",
    "    \"mono_0\": 1,\n",
    "    \"mono_1\": 1,\n",
    "    \"mono_2\": 0,\n",
    "    \"mono_3\": 0,\n",
    "}\n",
    "train_on_mbv = make_gam(train_on_mbv_params, cols=range(X_a.shape[1]))\n",
    "with warnings.catch_warnings():\n",
    "    warnings.simplefilter(\"ignore\")\n",
    "    train_on_mbv.fit(X_a, y.values.ravel())\n",
    "fig, axs = plt.subplots(ncols=4, figsize=(16, 4), sharey=True)\n",
    "\n",
    "pgml_ticks = [\n",
    "    [0, 0.1, 1, 10, 100],\n",
    "    [0, 1, 10, 100, 1000, 10000],\n",
    "    [0, 10, 100, 1000, 10000],\n",
    "    [0, 1, 10, 100, 1000],\n",
    "]\n",
    "xlims = [(-0.15, 10000), (-4, 10000), (-20, 10000), (0, 10000)]\n",
    "for i in range(4):\n",
    "    plex = X_a.columns[i]\n",
    "    color = LOD_COL_FMT.loc[plex, \"color\"]\n",
    "    XX = train_on_mbv.generate_X_grid(term=i, n=1000)\n",
    "    pdep = train_on_mbv.partial_dependence(term=i, X=XX)\n",
    "    if i == 0:\n",
    "        pdep = pdep - train_on_mbv.coef_[0]\n",
    "    axs[i].plot(XX[:, i], pdep, color=\"k\", lw=1)\n",
    "\n",
    "    lod = LOD_COL_FMT.loc[plex, \"LOD_samples\"]\n",
    "    if int(lod) == lod:\n",
    "        lod = int(lod)\n",
    "    axs[i].axvline(\n",
    "        np.arcsinh(10),\n",
    "        ls=(1, (3, 3)),\n",
    "        color=color,\n",
    "        # alpha=0.5,\n",
    "        lw=1,\n",
    "        label=f\"LOD: {lod} pg/mL\",\n",
    "        zorder=-1,\n",
    "    )\n",
    "    # axs[i].axhline(0, color=\"k\", lw=1, alpha=0.2, zorder=-2)\n",
    "    axs[i].axhline(np.log(0.72 / (1 - 0.72)) / 4, color=\"k\", lw=1, alpha=0.2, zorder=-2)\n",
    "    trans_ticks = np.arcsinh(np.array(pgml_ticks[i]) / lod * 10)\n",
    "    xlim_trans = np.arcsinh(np.array(xlims[i]) / lod * 10)\n",
    "    xlim = (max(XX[:, i].min(), xlim_trans[0]), min(XX[:, i].max(), xlim_trans[1]))\n",
    "    axs[i].set(\n",
    "        xlim=xlim,\n",
    "        ylim=(-5.3, 7.3),\n",
    "        title=plex,\n",
    "        xticks=trans_ticks,\n",
    "        xticklabels=pgml_ticks[i],\n",
    "        xlabel=f\"{plex.split()[1]} concentration (pg/mL)\",\n",
    "        # yticks=np.arange(-6, 9),\n",
    "        # yticklabels=[\"\"] * 15,\n",
    "    )\n",
    "    # axs[i].legend(loc=\"lower right\", framealpha=1)\n",
    "axs[0].set(ylabel=\"partial log-odds\")\n",
    "\n",
    "plt.savefig(OUTPUT_DIR / \"si_partial_dependence.pdf\")"
   ]
  },
  {
   "cell_type": "markdown",
   "metadata": {},
   "source": [
    "## Save model trained on model-building and validation sets"
   ]
  },
  {
   "cell_type": "code",
   "execution_count": null,
   "metadata": {},
   "outputs": [],
   "source": [
    "# with open(PROCESSED_DIR / \"train_on_mbv.pkl\", \"rb\") as f:\n",
    "#     train_on_mbv = pickle.load(f)\n",
    "\n",
    "with open(PROCESSED_DIR / \"train_on_mbv.pkl\", \"wb\") as f:\n",
    "    pickle.dump(train_on_mbv, f)\n",
    "\n",
    "train_on_mbv_d = train_on_mbv.__dict__.copy()\n",
    "for key in [\"distribution\", \"link\", \"terms\"]:\n",
    "    train_on_mbv_d[key] = str(train_on_mbv_d[key])\n",
    "train_on_mbv_d[\"callbacks\"] = [str(cb) for cb in train_on_mbv_d[\"callbacks\"]]\n",
    "train_on_mbv_d[\"logs_\"] = dict(train_on_mbv_d[\"logs_\"])\n",
    "for key, value in train_on_mbv_d.items():\n",
    "    if isinstance(value, np.ndarray):\n",
    "        train_on_mbv_d[key] = value.tolist()\n",
    "for key, value in train_on_mbv_d[\"statistics_\"].items():\n",
    "    if isinstance(value, np.ndarray):\n",
    "        train_on_mbv_d[\"statistics_\"][key] = value.tolist()\n",
    "\n",
    "with open(PROCESSED_DIR / \"train_on_mbv_params.json\", \"w\") as f:\n",
    "    json.dump(train_on_mbv_d, f)"
   ]
  },
  {
   "cell_type": "markdown",
   "metadata": {},
   "source": [
    "## Make and save predictions for test set"
   ]
  },
  {
   "cell_type": "code",
   "execution_count": null,
   "metadata": {},
   "outputs": [],
   "source": [
    "X_med = pd.read_csv(PROCESSED_DIR / \"X_med.csv\", index_col=0)\n",
    "X_med_a = np.arcsinh(X_med / LOD_COL_FMT[\"LOD_samples\"] * 10)\n",
    "\n",
    "X_test_a = X_med_a.loc[X_med_a.index.difference(X_a.index)]\n",
    "X_test = X_med.loc[X_med.index.difference(X_a.index)].copy()\n",
    "X_test.columns = X_test.columns.map(lambda col: f\"{col} (pg/mL)\")\n",
    "\n",
    "y_test_pred = train_on_mbv.predict_proba(X_test_a)[:, 1]\n",
    "\n",
    "X_test[\"Estimated TB Probability\"] = y_test_pred\n",
    "\n",
    "X_test[\"Predicted Diagnosis\"] = X_test[\"Estimated TB Probability\"].map(\n",
    "    lambda x: \"TB\" if x > 0.72 else \"Non TB\"\n",
    ")\n",
    "\n",
    "barcode_map = pd.read_csv(PROCESSED_DIR / \"barcodes.csv\", index_col=0)\n",
    "X_test.index = pd.Index(barcode_map.loc[X_test.index].values[:, 0], name=\"barcode\")\n",
    "\n",
    "writer = pd.ExcelWriter(OUTPUT_DIR / \"test_set_predictions.xlsx\")\n",
    "X_test.reset_index().to_excel(writer, index=False, sheet_name=\"Predictions\")\n",
    "\n",
    "for col_idx, col_width in enumerate([20] * 7):\n",
    "    writer.sheets[\"Predictions\"].set_column(col_idx, col_idx, col_width)\n",
    "\n",
    "writer.close()\n",
    "\n",
    "X_test.index.name = \"Barcode\"\n",
    "X_test.index = X_test.index.map(lambda x: Barcode2(x).any_aliquot())"
   ]
  },
  {
   "cell_type": "markdown",
   "metadata": {},
   "source": [
    "## (After unblinding) Read in clinical true values for test set"
   ]
  },
  {
   "cell_type": "code",
   "execution_count": null,
   "metadata": {},
   "outputs": [],
   "source": [
    "clinical_test = pd.read_excel(CLINICAL_TEST_FILE)\n",
    "clinical_test.index = clinical_test[\"barcode\"].map(lambda x: Barcode2(x).any_aliquot())"
   ]
  },
  {
   "cell_type": "markdown",
   "metadata": {},
   "source": [
    "### Plot ROC curve"
   ]
  },
  {
   "cell_type": "code",
   "execution_count": null,
   "metadata": {},
   "outputs": [],
   "source": [
    "X_test_roc = X_test.loc[X_test.index.intersection(clinical_test.index)]\n",
    "y_test_pred = X_test_roc[\"Estimated TB Probability\"]\n",
    "y_test_roc = clinical_test.loc[X_test_roc.index, \"p_cat\"].map(\n",
    "    {\n",
    "        \"Clinical_TB\": 1,\n",
    "        \"Likely_subcl_TB\": 0,\n",
    "        \"NonTB_LTBI\": 0,\n",
    "        \"NonTB_NonLTBI\": 0,\n",
    "        \"S-C+\": 1,\n",
    "    }\n",
    ")\n",
    "RocCurveDisplay.from_predictions(\n",
    "    y_test_roc, y_test_pred, name=\"ROC Curve\", color=\"k\", lw=1\n",
    ")\n",
    "sens = (\n",
    "    (X_test_roc[\"Predicted Diagnosis\"] == \"TB\") & (y_test_roc == 1)\n",
    ").sum() / y_test_roc.sum()\n",
    "spec = ((X_test_roc[\"Predicted Diagnosis\"] == \"Non TB\") & (y_test_roc == 0)).sum() / (\n",
    "    y_test_roc == 0\n",
    ").sum()\n",
    "\n",
    "ax = plt.gca()\n",
    "ax.plot(\n",
    "    [1 - spec],\n",
    "    [sens],\n",
    "    \"o\",\n",
    "    color=\"tab:red\",\n",
    "    label=f\"Predetermined threshold\\n{sens:.0%} sensitivity\\n{spec:.0%} specificity\",\n",
    ")\n",
    "ax.plot([0, 1], [0, 1], \"k--\", alpha=0.2)\n",
    "ax.set(\n",
    "    xlim=(0, 1),\n",
    "    ylim=(0, 1),\n",
    "    aspect=\"equal\",\n",
    "    xticks=np.arange(0, 1.01, 0.1),\n",
    "    yticks=np.arange(0, 1.01, 0.1),\n",
    "    xlabel=\"1 - Specificity (False Positive Rate)\",\n",
    "    ylabel=\"Sensitivity (True Positive Rate)\",\n",
    "    title=\"Test Set\",\n",
    ")\n",
    "ax.legend()\n",
    "plt.tight_layout()\n",
    "plt.show()\n",
    "X_test[\"Actual p_cat\"] = X_test.index.map(\n",
    "    lambda x: clinical_test.loc[x, \"p_cat\"] if x in clinical_test.index else pd.NA\n",
    ")"
   ]
  }
 ],
 "metadata": {
  "kernelspec": {
   "display_name": ".venv",
   "language": "python",
   "name": "python3"
  },
  "language_info": {
   "codemirror_mode": {
    "name": "ipython",
    "version": 3
   },
   "file_extension": ".py",
   "mimetype": "text/x-python",
   "name": "python",
   "nbconvert_exporter": "python",
   "pygments_lexer": "ipython3",
   "version": "3.13.2"
  }
 },
 "nbformat": 4,
 "nbformat_minor": 2
}
